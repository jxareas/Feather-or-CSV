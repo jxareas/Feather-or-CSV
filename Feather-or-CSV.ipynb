{
 "cells": [
  {
   "cell_type": "markdown",
   "id": "0fc13489",
   "metadata": {},
   "source": [
    "# Feather or CSV?\n",
    "This notebook provides a straightforward comparison between the feather format and the traditional .csv file."
   ]
  },
  {
   "cell_type": "markdown",
   "id": "79f14996",
   "metadata": {},
   "source": [
    "## Setting up the environment\n",
    "Loading the libraries"
   ]
  },
  {
   "cell_type": "code",
   "execution_count": 12,
   "id": "8e6e22ec",
   "metadata": {},
   "outputs": [],
   "source": [
    "import pandas as pd\n",
    "import numpy as np\n",
    "import time\n",
    "import os"
   ]
  },
  {
   "cell_type": "code",
   "execution_count": 13,
   "id": "32964a33",
   "metadata": {},
   "outputs": [],
   "source": [
    "# Simulating some data\n",
    "columns = 5\n",
    "rows = 1_000_000\n",
    "\n",
    "np.random.seed(0)\n",
    "df = pd.DataFrame(np.random.rand(rows, columns),\n",
    "                  columns=[\"c1\", \"c2\", \"c3\", \"c4\", \"c5\"])"
   ]
  },
  {
   "cell_type": "markdown",
   "id": "5329b493",
   "metadata": {},
   "source": [
    "# Using Feather\n",
    "We proceed to measure the reading time and writing time, as well as dumping the feather file into our root directory in order to later calculate its size."
   ]
  },
  {
   "cell_type": "code",
   "execution_count": 14,
   "id": "73aa5c63",
   "metadata": {},
   "outputs": [],
   "source": [
    "tic = time.process_time()\n",
    "df.to_feather('data.feather')\n",
    "feather_write = time.process_time() - tic\n",
    "tic = time.process_time()\n",
    "feather = pd.read_feather('data.feather')\n",
    "feather_read = time.process_time() - tic"
   ]
  },
  {
   "cell_type": "markdown",
   "id": "c31a26cd",
   "metadata": {},
   "source": [
    "# Using CSV\n",
    "Similarly as we did before with the feather file, we measure the reading time and writing time, as well as dump the csv file so as to calculate its size later."
   ]
  },
  {
   "cell_type": "code",
   "execution_count": 15,
   "id": "3d0f96ea",
   "metadata": {},
   "outputs": [],
   "source": [
    "tic = time.process_time()\n",
    "df.to_csv('data.csv', index=False)\n",
    "csv_write = time.process_time() - tic\n",
    "tic = time.process_time()\n",
    "csv = pd.read_csv('data.csv')\n",
    "csv_read = time.process_time() - tic"
   ]
  },
  {
   "cell_type": "markdown",
   "id": "8203d9a3",
   "metadata": {},
   "source": [
    "# Computing the file size\n",
    "In order to compute the size for each file, we'll use the helper function below:"
   ]
  },
  {
   "cell_type": "code",
   "execution_count": 16,
   "id": "2865cc2d",
   "metadata": {},
   "outputs": [],
   "source": [
    "def get_file_size_in_megabytes(file_name, decimals=2):\n",
    "    file_stats = os.stat(file_name)\n",
    "    return round(file_stats.st_size / (1024 * 1024), decimals)"
   ]
  },
  {
   "cell_type": "code",
   "execution_count": 17,
   "id": "3b8cb4a6",
   "metadata": {},
   "outputs": [],
   "source": [
    "feather_file_size = get_file_size_in_megabytes('data.feather')\n",
    "csv_file_size = get_file_size_in_megabytes('data.csv')"
   ]
  },
  {
   "cell_type": "markdown",
   "id": "c6aa015a",
   "metadata": {},
   "source": [
    "# Comparing times\n",
    "Now, we can compare the read and write time (in seconds) as well as the file size (in megabytes), for each file."
   ]
  },
  {
   "cell_type": "code",
   "execution_count": 24,
   "id": "e8bf78ef",
   "metadata": {},
   "outputs": [
    {
     "data": {
      "text/html": [
       "<div>\n",
       "<style scoped>\n",
       "    .dataframe tbody tr th:only-of-type {\n",
       "        vertical-align: middle;\n",
       "    }\n",
       "\n",
       "    .dataframe tbody tr th {\n",
       "        vertical-align: top;\n",
       "    }\n",
       "\n",
       "    .dataframe thead th {\n",
       "        text-align: right;\n",
       "    }\n",
       "</style>\n",
       "<table border=\"1\" class=\"dataframe\">\n",
       "  <thead>\n",
       "    <tr style=\"text-align: right;\">\n",
       "      <th></th>\n",
       "      <th>Write (s)</th>\n",
       "      <th>Read (s)</th>\n",
       "      <th>Size (mb)</th>\n",
       "    </tr>\n",
       "  </thead>\n",
       "  <tbody>\n",
       "    <tr>\n",
       "      <th>Feather</th>\n",
       "      <td>0.23</td>\n",
       "      <td>0.11</td>\n",
       "      <td>38.16</td>\n",
       "    </tr>\n",
       "    <tr>\n",
       "      <th>CSV</th>\n",
       "      <td>8.94</td>\n",
       "      <td>0.97</td>\n",
       "      <td>92.84</td>\n",
       "    </tr>\n",
       "  </tbody>\n",
       "</table>\n",
       "</div>"
      ],
      "text/plain": [
       "         Write (s)  Read (s)  Size (mb)\n",
       "Feather       0.23      0.11      38.16\n",
       "CSV           8.94      0.97      92.84"
      ]
     },
     "execution_count": 24,
     "metadata": {},
     "output_type": "execute_result"
    }
   ],
   "source": [
    "# Comparing times\n",
    "times = pd.DataFrame({'Write (s)': [round(feather_write, 2), round(csv_write, 2)],\n",
    "                      'Read (s)': [round(feather_read, 2), round(csv_read, 2)],\n",
    "                     'Size (mb)': [feather_file_size, csv_file_size]\n",
    "                     },\n",
    "                     index=['Feather', 'CSV'])\n",
    "times"
   ]
  }
 ],
 "metadata": {
  "kernelspec": {
   "display_name": "Python 3 (ipykernel)",
   "language": "python",
   "name": "python3"
  },
  "language_info": {
   "codemirror_mode": {
    "name": "ipython",
    "version": 3
   },
   "file_extension": ".py",
   "mimetype": "text/x-python",
   "name": "python",
   "nbconvert_exporter": "python",
   "pygments_lexer": "ipython3",
   "version": "3.10.4"
  }
 },
 "nbformat": 4,
 "nbformat_minor": 5
}
